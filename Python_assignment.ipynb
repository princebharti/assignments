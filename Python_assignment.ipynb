{
 "cells": [
  {
   "cell_type": "markdown",
   "metadata": {},
   "source": [
    "Assigntment: Practice Questions On Functions"
   ]
  },
  {
   "cell_type": "markdown",
   "metadata": {},
   "source": [
    "1. Write a function that inputs a number and prints the multiplication table of that number."
   ]
  },
  {
   "cell_type": "code",
   "execution_count": 8,
   "metadata": {},
   "outputs": [],
   "source": [
    "def table():\n",
    "    \"\"\"\n",
    "    prints multiplication table for the number entered\n",
    "    \n",
    "    \"\"\"\n",
    "    num=int(input('Please enter number'))\n",
    "    for i in range(1,11):\n",
    "        print(\"{} * {} =\".format(num,i),num*i)"
   ]
  },
  {
   "cell_type": "code",
   "execution_count": 14,
   "metadata": {},
   "outputs": [
    {
     "name": "stdout",
     "output_type": "stream",
     "text": [
      "4 * 1 = 4\n",
      "4 * 2 = 8\n",
      "4 * 3 = 12\n",
      "4 * 4 = 16\n",
      "4 * 5 = 20\n",
      "4 * 6 = 24\n",
      "4 * 7 = 28\n",
      "4 * 8 = 32\n",
      "4 * 9 = 36\n",
      "4 * 10 = 40\n"
     ]
    }
   ],
   "source": [
    "table()"
   ]
  },
  {
   "cell_type": "markdown",
   "metadata": {},
   "source": [
    "2.Write a program to print twin primes less than 1000. If two consecutive odd numbers are\n",
    "both prime then they are known as twin primes."
   ]
  },
  {
   "cell_type": "code",
   "execution_count": 15,
   "metadata": {},
   "outputs": [],
   "source": [
    "def is_prime(x):\n",
    "    \"\"\"\n",
    "    for checking no is prime or not.\n",
    "    return value:if no is prime then return true else false\n",
    "    \"\"\"\n",
    "    for i in range(2,x):\n",
    "        if((x%i)==0):\n",
    "            return False\n",
    "    return True\n",
    "\n",
    "def twin_primes():\n",
    "    limit=1000\n",
    "    no=list(range(1,limit))\n",
    "    odd_no=list(filter(lambda x:(x%2)!=0,no))\n",
    "    print(\"twins prime no are :\")\n",
    "    for i in range(len(odd_no)-1):\n",
    "        if(is_prime(odd_no[i]) and is_prime(odd_no[i+1])):\n",
    "            print((odd_no[i],odd_no[i+1]))\n",
    "    \n"
   ]
  },
  {
   "cell_type": "code",
   "execution_count": 16,
   "metadata": {},
   "outputs": [
    {
     "name": "stdout",
     "output_type": "stream",
     "text": [
      "twins prime no are :\n",
      "(1, 3)\n",
      "(3, 5)\n",
      "(5, 7)\n",
      "(11, 13)\n",
      "(17, 19)\n",
      "(29, 31)\n",
      "(41, 43)\n",
      "(59, 61)\n",
      "(71, 73)\n",
      "(101, 103)\n",
      "(107, 109)\n",
      "(137, 139)\n",
      "(149, 151)\n",
      "(179, 181)\n",
      "(191, 193)\n",
      "(197, 199)\n",
      "(227, 229)\n",
      "(239, 241)\n",
      "(269, 271)\n",
      "(281, 283)\n",
      "(311, 313)\n",
      "(347, 349)\n",
      "(419, 421)\n",
      "(431, 433)\n",
      "(461, 463)\n",
      "(521, 523)\n",
      "(569, 571)\n",
      "(599, 601)\n",
      "(617, 619)\n",
      "(641, 643)\n",
      "(659, 661)\n",
      "(809, 811)\n",
      "(821, 823)\n",
      "(827, 829)\n",
      "(857, 859)\n",
      "(881, 883)\n"
     ]
    }
   ],
   "source": [
    "twin_primes()"
   ]
  },
  {
   "cell_type": "markdown",
   "metadata": {},
   "source": [
    "3.Write a program to find out the prime factors of a number. Example: prime factors of 56 - 2, 2, 2, 7\n"
   ]
  },
  {
   "cell_type": "code",
   "execution_count": 17,
   "metadata": {},
   "outputs": [],
   "source": [
    "def prime_factor(num):\n",
    "    x=2\n",
    "    print('prime factors for {} are: '.format(num))\n",
    "    while(num>1):\n",
    "        if((num%x)==0):\n",
    "            print(x,end=' ')\n",
    "            num=num/x\n",
    "        else:\n",
    "            x+=1\n",
    "            "
   ]
  },
  {
   "cell_type": "code",
   "execution_count": 18,
   "metadata": {},
   "outputs": [
    {
     "name": "stdout",
     "output_type": "stream",
     "text": [
      "prime factors for 56 are: \n",
      "2 2 2 7 "
     ]
    }
   ],
   "source": [
    "prime_factor(56)"
   ]
  },
  {
   "cell_type": "markdown",
   "metadata": {},
   "source": [
    "4.Write a program to implement these formulae of permutations and combinations. Number of permutations of n objects taken r at a time: p(n, r) = n! / (n-r)!. Number of combinations of n objects taken r at a time is: c(n, r) = n! / (r!*(n-r)!) = p(n,r) / r!\n"
   ]
  },
  {
   "cell_type": "code",
   "execution_count": 34,
   "metadata": {},
   "outputs": [],
   "source": [
    "def factorial(n):\n",
    "    \"\"\"\n",
    "    this function returns the factorial of a number\n",
    "    \n",
    "    \"\"\"\n",
    "    result=1\n",
    "    if n==0:\n",
    "        return 1\n",
    "    else:\n",
    "        for i in range(1,n+1):\n",
    "            result =result*i\n",
    "    return result\n",
    "\n",
    "def permutations(n,r):\n",
    "    \"\"\"\n",
    "    this function returns the no of permutation(arrangement) of a number\n",
    "    \"\"\"\n",
    "    return (factorial(n))/factorial(n-r)\n",
    "\n",
    "def combinations(n,r):\n",
    "    \"\"\"\n",
    "    this function returns the no of combination of a number\n",
    "    \n",
    "    \"\"\"\n",
    "    return ((factorial(n))/factorial(n-r))/factorial(r)\n",
    "\n",
    "\n",
    "    \n",
    "    "
   ]
  },
  {
   "cell_type": "code",
   "execution_count": 35,
   "metadata": {},
   "outputs": [
    {
     "data": {
      "text/plain": [
       "90.0"
      ]
     },
     "execution_count": 35,
     "metadata": {},
     "output_type": "execute_result"
    }
   ],
   "source": [
    "permutations(10,2)"
   ]
  },
  {
   "cell_type": "code",
   "execution_count": 36,
   "metadata": {},
   "outputs": [
    {
     "data": {
      "text/plain": [
       "6.0"
      ]
     },
     "execution_count": 36,
     "metadata": {},
     "output_type": "execute_result"
    }
   ],
   "source": [
    "combinations(4,2)"
   ]
  },
  {
   "cell_type": "markdown",
   "metadata": {},
   "source": [
    "5.Write a function that converts a decimal number to binary number"
   ]
  },
  {
   "cell_type": "code",
   "execution_count": 73,
   "metadata": {},
   "outputs": [],
   "source": [
    "def binary(num):\n",
    "    li=list()\n",
    "    while(num>1):\n",
    "        if((num%2)!=0):\n",
    "            num=num//2\n",
    "            li.append(1)\n",
    "        else:\n",
    "            num=num//2\n",
    "            li.append(0)\n",
    "    li.append(1)\n",
    "    print('0b',end='')\n",
    "    for i in li[::-1]:\n",
    "        print(i,end='')\n",
    "        "
   ]
  },
  {
   "cell_type": "markdown",
   "metadata": {},
   "source": [
    "6.Write a function cubesum() that accepts an integer and returns the sum of the cubes of individual digits of that number. Use this function to make functions PrintArmstrong() and isArmstrong() to print Armstrong numbers and to find whether is an Armstrong number."
   ]
  },
  {
   "cell_type": "code",
   "execution_count": 89,
   "metadata": {},
   "outputs": [],
   "source": [
    "def cubeSum(num):\n",
    "    \"\"\"\n",
    "    returns the sum of the cubes of individual digits of that numbers\n",
    "    \n",
    "    \"\"\"\n",
    "    string=str(num)\n",
    "    cube_sum=0\n",
    "    for ch in string:\n",
    "        cube_sum=cube_sum+(int(ch)**3)\n",
    "    return cube_sum\n",
    "\n",
    "def printArmstrong(num):\n",
    "    \"\"\"\n",
    "    prints all armstrong numbers between 0 and number passed \n",
    "    \"\"\"\n",
    "    for i in range(num):\n",
    "        if(i==cubesum(i)):\n",
    "            print(i,end=' ')\n",
    "    \n",
    "def isArmstrong(num):\n",
    "    \"\"\"\n",
    "    this function checks whether a number is armstrong or not \n",
    "    \"\"\"\n",
    "    if num==cubeSum(num):\n",
    "        return True\n",
    "    return False\n",
    "    \n",
    "        "
   ]
  },
  {
   "cell_type": "code",
   "execution_count": 90,
   "metadata": {},
   "outputs": [
    {
     "name": "stdout",
     "output_type": "stream",
     "text": [
      "0 1 153 370 371 407 "
     ]
    }
   ],
   "source": [
    "printArmstrong(1000)"
   ]
  },
  {
   "cell_type": "code",
   "execution_count": 91,
   "metadata": {},
   "outputs": [
    {
     "data": {
      "text/plain": [
       "True"
      ]
     },
     "execution_count": 91,
     "metadata": {},
     "output_type": "execute_result"
    }
   ],
   "source": [
    "isArmstrong(371)"
   ]
  },
  {
   "cell_type": "code",
   "execution_count": 92,
   "metadata": {},
   "outputs": [
    {
     "data": {
      "text/plain": [
       "False"
      ]
     },
     "execution_count": 92,
     "metadata": {},
     "output_type": "execute_result"
    }
   ],
   "source": [
    "isArmstrong(500)"
   ]
  },
  {
   "cell_type": "markdown",
   "metadata": {},
   "source": [
    "7.Write a function prodDigits() that inputs a number and returns the product of digits of that number."
   ]
  },
  {
   "cell_type": "code",
   "execution_count": 98,
   "metadata": {},
   "outputs": [],
   "source": [
    "def prodDigits(num):\n",
    "    \n",
    "    product=1\n",
    "    for element in str(num):\n",
    "        product=product*int(element)\n",
    "    return product\n",
    "    \n",
    "    "
   ]
  },
  {
   "cell_type": "code",
   "execution_count": 100,
   "metadata": {},
   "outputs": [
    {
     "data": {
      "text/plain": [
       "6"
      ]
     },
     "execution_count": 100,
     "metadata": {},
     "output_type": "execute_result"
    }
   ],
   "source": [
    "prodDigits(123)"
   ]
  },
  {
   "cell_type": "markdown",
   "metadata": {},
   "source": [
    "8.If all digits of a number n are multiplied by each other repeating with the product, the one digit number obtained at last is called the multiplicative digital root of n. The number of times digits need to be multiplied to reach one digit is called the multiplicative persistance of n.\n",
    "\n",
    "Example: 86 -> 48 -> 32 -> 6 (MDR 6, MPersistence 3) \n",
    "    ; 341 -> 12->2 (MDR 2, MPersistence 2)\n",
    "\n",
    "Using the function prodDigits() of previous exercise write functions MDR() and MPersistence() that input a number and return its multiplicative digital root and multiplicative persistence respectively\n"
   ]
  },
  {
   "cell_type": "code",
   "execution_count": 110,
   "metadata": {},
   "outputs": [],
   "source": [
    "def MDR():\n",
    "    num=input(\"enter a number:\")\n",
    "    \n",
    "    while(len(num)>1):\n",
    "        num=str(prodDigits(num))\n",
    "    \n",
    "    return int(num)\n",
    "\n",
    "\n",
    "def  MPersistence():\n",
    "    \n",
    "    num=input(\"enter a number:\")\n",
    "    count=0\n",
    "    while(len(num)>1):\n",
    "        num=str(prodDigits(num))\n",
    "        count+=1\n",
    "    \n",
    "    return count\n",
    "    "
   ]
  },
  {
   "cell_type": "code",
   "execution_count": null,
   "metadata": {},
   "outputs": [],
   "source": []
  }
 ],
 "metadata": {
  "kernelspec": {
   "display_name": "Python 3",
   "language": "python",
   "name": "python3"
  },
  "language_info": {
   "codemirror_mode": {
    "name": "ipython",
    "version": 3
   },
   "file_extension": ".py",
   "mimetype": "text/x-python",
   "name": "python",
   "nbconvert_exporter": "python",
   "pygments_lexer": "ipython3",
   "version": "3.6.4"
  }
 },
 "nbformat": 4,
 "nbformat_minor": 2
}
